{
 "cells": [
  {
   "cell_type": "code",
   "execution_count": 3,
   "metadata": {},
   "outputs": [],
   "source": [
    "import pandas as pd"
   ]
  },
  {
   "cell_type": "code",
   "execution_count": 4,
   "metadata": {},
   "outputs": [],
   "source": [
    "df = pd.read_csv('scraped_products_raw.csv')"
   ]
  },
  {
   "cell_type": "code",
   "execution_count": 5,
   "metadata": {},
   "outputs": [
    {
     "data": {
      "text/html": [
       "<div>\n",
       "<style scoped>\n",
       "    .dataframe tbody tr th:only-of-type {\n",
       "        vertical-align: middle;\n",
       "    }\n",
       "\n",
       "    .dataframe tbody tr th {\n",
       "        vertical-align: top;\n",
       "    }\n",
       "\n",
       "    .dataframe thead th {\n",
       "        text-align: right;\n",
       "    }\n",
       "</style>\n",
       "<table border=\"1\" class=\"dataframe\">\n",
       "  <thead>\n",
       "    <tr style=\"text-align: right;\">\n",
       "      <th></th>\n",
       "      <th>Title</th>\n",
       "      <th>Price</th>\n",
       "      <th>Rating</th>\n",
       "      <th>Colors</th>\n",
       "      <th>Size</th>\n",
       "      <th>Gender</th>\n",
       "      <th>Timestamp</th>\n",
       "    </tr>\n",
       "  </thead>\n",
       "  <tbody>\n",
       "    <tr>\n",
       "      <th>0</th>\n",
       "      <td>Unknown Product</td>\n",
       "      <td>$100.00</td>\n",
       "      <td>⭐ Invalid Rating / 5</td>\n",
       "      <td>5</td>\n",
       "      <td>M</td>\n",
       "      <td>Men</td>\n",
       "      <td>2025-05-20 14:57:43</td>\n",
       "    </tr>\n",
       "    <tr>\n",
       "      <th>1</th>\n",
       "      <td>T-shirt 2</td>\n",
       "      <td>$102.15</td>\n",
       "      <td>⭐ 3.9 / 5</td>\n",
       "      <td>3</td>\n",
       "      <td>M</td>\n",
       "      <td>Women</td>\n",
       "      <td>2025-05-20 14:57:43</td>\n",
       "    </tr>\n",
       "    <tr>\n",
       "      <th>2</th>\n",
       "      <td>Hoodie 3</td>\n",
       "      <td>$496.88</td>\n",
       "      <td>⭐ 4.8 / 5</td>\n",
       "      <td>3</td>\n",
       "      <td>L</td>\n",
       "      <td>Unisex</td>\n",
       "      <td>2025-05-20 14:57:43</td>\n",
       "    </tr>\n",
       "    <tr>\n",
       "      <th>3</th>\n",
       "      <td>Pants 4</td>\n",
       "      <td>$467.31</td>\n",
       "      <td>⭐ 3.3 / 5</td>\n",
       "      <td>3</td>\n",
       "      <td>XL</td>\n",
       "      <td>Men</td>\n",
       "      <td>2025-05-20 14:57:43</td>\n",
       "    </tr>\n",
       "    <tr>\n",
       "      <th>4</th>\n",
       "      <td>Outerwear 5</td>\n",
       "      <td>$321.59</td>\n",
       "      <td>⭐ 3.5 / 5</td>\n",
       "      <td>3</td>\n",
       "      <td>XXL</td>\n",
       "      <td>Women</td>\n",
       "      <td>2025-05-20 14:57:43</td>\n",
       "    </tr>\n",
       "  </tbody>\n",
       "</table>\n",
       "</div>"
      ],
      "text/plain": [
       "             Title    Price                Rating  Colors Size  Gender  \\\n",
       "0  Unknown Product  $100.00  ⭐ Invalid Rating / 5       5    M     Men   \n",
       "1        T-shirt 2  $102.15             ⭐ 3.9 / 5       3    M   Women   \n",
       "2         Hoodie 3  $496.88             ⭐ 4.8 / 5       3    L  Unisex   \n",
       "3          Pants 4  $467.31             ⭐ 3.3 / 5       3   XL     Men   \n",
       "4      Outerwear 5  $321.59             ⭐ 3.5 / 5       3  XXL   Women   \n",
       "\n",
       "             Timestamp  \n",
       "0  2025-05-20 14:57:43  \n",
       "1  2025-05-20 14:57:43  \n",
       "2  2025-05-20 14:57:43  \n",
       "3  2025-05-20 14:57:43  \n",
       "4  2025-05-20 14:57:43  "
      ]
     },
     "execution_count": 5,
     "metadata": {},
     "output_type": "execute_result"
    }
   ],
   "source": [
    "df.head()"
   ]
  },
  {
   "cell_type": "code",
   "execution_count": 6,
   "metadata": {},
   "outputs": [
    {
     "name": "stdout",
     "output_type": "stream",
     "text": [
      "<class 'pandas.core.frame.DataFrame'>\n",
      "RangeIndex: 1000 entries, 0 to 999\n",
      "Data columns (total 7 columns):\n",
      " #   Column     Non-Null Count  Dtype \n",
      "---  ------     --------------  ----- \n",
      " 0   Title      1000 non-null   object\n",
      " 1   Price      1000 non-null   object\n",
      " 2   Rating     1000 non-null   object\n",
      " 3   Colors     1000 non-null   int64 \n",
      " 4   Size       1000 non-null   object\n",
      " 5   Gender     1000 non-null   object\n",
      " 6   Timestamp  1000 non-null   object\n",
      "dtypes: int64(1), object(6)\n",
      "memory usage: 54.8+ KB\n"
     ]
    }
   ],
   "source": [
    "df.info()"
   ]
  },
  {
   "cell_type": "code",
   "execution_count": 7,
   "metadata": {},
   "outputs": [
    {
     "name": "stdout",
     "output_type": "stream",
     "text": [
      "Kolom 'Title' memiliki 901 nilai unik, tampilkan 20 pertama:\n",
      "['Unknown Product' 'T-shirt 2' 'Hoodie 3' 'Pants 4' 'Outerwear 5'\n",
      " 'Jacket 6' 'Crewneck 7' 'T-shirt 8' 'Hoodie 9' 'Pants 10' 'Jacket 12'\n",
      " 'Crewneck 13' 'T-shirt 14' 'Hoodie 15' 'Pants 16' 'Outerwear 17'\n",
      " 'Jacket 18' 'Crewneck 19' 'T-shirt 20' 'Pants 22']\n",
      "----------------------------------------\n",
      "Kolom 'Price' memiliki 859 nilai unik, tampilkan 20 pertama:\n",
      "['$100.00' '$102.15' '$496.88' '$467.31' '$321.59' '$153.37' '$430.75'\n",
      " '$487.66' '$248.26' '$193.76' '$532.99' '$340.45' '$203.05' '$136.51'\n",
      " 'Price Unavailable' '$52.60' '$343.75' '$81.81' '$82.85' '$269.98']\n",
      "----------------------------------------\n",
      "Kolom 'Rating' memiliki 23 nilai unik, tampilkan 20 pertama:\n",
      "['⭐ Invalid Rating / 5' '⭐ 3.9 / 5' '⭐ 4.8 / 5' '⭐ 3.3 / 5' '⭐ 3.5 / 5'\n",
      " '⭐ 4.3 / 5' '⭐ 3.1 / 5' '⭐ 3.2 / 5' '⭐ 4.2 / 5' '⭐ 3.8 / 5' '⭐ 3.6 / 5'\n",
      " 'Not Rated' '⭐ 3.4 / 5' '⭐ 4.9 / 5' '⭐ 3.7 / 5' '⭐ 4.6 / 5' '⭐ 4.0 / 5'\n",
      " '⭐ 4.5 / 5' '⭐ 3.0 / 5' '⭐ 4.4 / 5']\n",
      "----------------------------------------\n",
      "Kolom 'Colors': [5 3 8]\n",
      "----------------------------------------\n",
      "Kolom 'Size': ['M' 'L' 'XL' 'XXL' 'S']\n",
      "----------------------------------------\n",
      "Kolom 'Gender': ['Men' 'Women' 'Unisex']\n",
      "----------------------------------------\n",
      "Kolom 'Timestamp' memiliki 50 nilai unik, tampilkan 20 pertama:\n",
      "['2025-05-20 14:57:43' '2025-05-20 14:57:45' '2025-05-20 14:57:48'\n",
      " '2025-05-20 14:57:50' '2025-05-20 14:57:53' '2025-05-20 14:57:55'\n",
      " '2025-05-20 14:57:58' '2025-05-20 14:58:00' '2025-05-20 14:58:03'\n",
      " '2025-05-20 14:58:06' '2025-05-20 14:58:08' '2025-05-20 14:58:11'\n",
      " '2025-05-20 14:58:13' '2025-05-20 14:58:16' '2025-05-20 14:58:18'\n",
      " '2025-05-20 14:58:21' '2025-05-20 14:58:23' '2025-05-20 14:58:25'\n",
      " '2025-05-20 14:58:28' '2025-05-20 14:58:30']\n",
      "----------------------------------------\n"
     ]
    }
   ],
   "source": [
    "for col in df.columns:\n",
    "    unique_vals = df[col].unique()\n",
    "    if len(unique_vals) > 20:\n",
    "        print(f\"Kolom '{col}' memiliki {len(unique_vals)} nilai unik, tampilkan 20 pertama:\")\n",
    "        print(unique_vals[:20])\n",
    "    else:\n",
    "        print(f\"Kolom '{col}': {unique_vals}\")\n",
    "    print(\"-\" * 40)"
   ]
  }
 ],
 "metadata": {
  "kernelspec": {
   "display_name": ".env",
   "language": "python",
   "name": "python3"
  },
  "language_info": {
   "codemirror_mode": {
    "name": "ipython",
    "version": 3
   },
   "file_extension": ".py",
   "mimetype": "text/x-python",
   "name": "python",
   "nbconvert_exporter": "python",
   "pygments_lexer": "ipython3",
   "version": "3.12.6"
  }
 },
 "nbformat": 4,
 "nbformat_minor": 2
}
